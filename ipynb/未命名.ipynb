{
 "cells": [
  {
   "cell_type": "markdown",
   "metadata": {},
   "source": [
    "import lib path"
   ]
  },
  {
   "cell_type": "code",
   "execution_count": 2,
   "metadata": {},
   "outputs": [],
   "source": [
    "import os\n",
    "import sys\n",
    "module_path = os.path.abspath(os.path.join('pytorch-adda'))\n",
    "if module_path not in sys.path:\n",
    "    sys.path.append(module_path)"
   ]
  },
  {
   "cell_type": "code",
   "execution_count": 3,
   "metadata": {},
   "outputs": [],
   "source": [
    "import params\n",
    "from core import eval_src, eval_tgt, train_src, train_tgt\n",
    "from models import Discriminator, LeNetClassifier, LeNetEncoder\n",
    "from utils import get_data_loader, init_model, init_random_seed"
   ]
  },
  {
   "cell_type": "code",
   "execution_count": null,
   "metadata": {},
   "outputs": [],
   "source": [
    "\n",
    "if __name__ == '__main__':\n",
    "    # init random seed\n",
    "    init_random_seed(params.manual_seed)\n",
    "\n",
    "    # load dataset\n",
    "    src_data_loader = get_data_loader(params.src_dataset)\n",
    "    src_data_loader_eval = get_data_loader(params.src_dataset, train=False)\n",
    "    tgt_data_loader = get_data_loader(params.tgt_dataset)\n",
    "    tgt_data_loader_eval = get_data_loader(params.tgt_dataset, train=False)\n",
    "\n",
    "    # load models\n",
    "    src_encoder = init_model(net=LeNetEncoder(),\n",
    "                             restore=params.src_encoder_restore)\n",
    "    src_classifier = init_model(net=LeNetClassifier(),\n",
    "                                restore=params.src_classifier_restore)\n",
    "    tgt_encoder = init_model(net=LeNetEncoder(),\n",
    "                             restore=params.tgt_encoder_restore)\n",
    "    critic = init_model(Discriminator(input_dims=params.d_input_dims,\n",
    "                                      hidden_dims=params.d_hidden_dims,\n",
    "                                      output_dims=params.d_output_dims),\n",
    "                        restore=params.d_model_restore)\n",
    "\n",
    "    # train source model\n",
    "    print(\"=== Training classifier for source domain ===\")\n",
    "    print(\">>> Source Encoder <<<\")\n",
    "    print(src_encoder)\n",
    "    print(\">>> Source Classifier <<<\")\n",
    "    print(src_classifier)\n",
    "\n",
    "    if not (src_encoder.restored and src_classifier.restored and\n",
    "            params.src_model_trained):\n",
    "        src_encoder, src_classifier = train_src(\n",
    "            src_encoder, src_classifier, src_data_loader)\n",
    "\n",
    "    # eval source model\n",
    "    print(\"=== Evaluating classifier for source domain ===\")\n",
    "    eval_src(src_encoder, src_classifier, src_data_loader_eval)\n",
    "\n",
    "    # train target encoder by GAN\n",
    "    print(\"=== Training encoder for target domain ===\")\n",
    "    print(\">>> Target Encoder <<<\")\n",
    "    print(tgt_encoder)\n",
    "    print(\">>> Critic <<<\")\n",
    "    print(critic)\n",
    "\n",
    "    # init weights of target encoder with those of source encoder\n",
    "    if not tgt_encoder.restored:\n",
    "        tgt_encoder.load_state_dict(src_encoder.state_dict())\n",
    "\n",
    "    if not (tgt_encoder.restored and critic.restored and\n",
    "            params.tgt_model_trained):\n",
    "        tgt_encoder = train_tgt(src_encoder, tgt_encoder, critic,\n",
    "                                src_data_loader, tgt_data_loader)\n",
    "\n",
    "    # eval target encoder on test set of target dataset\n",
    "    print(\"=== Evaluating classifier for encoded target domain ===\")\n",
    "    print(\">>> source only <<<\")\n",
    "    eval_tgt(src_encoder, src_classifier, tgt_data_loader_eval)\n",
    "    print(\">>> domain adaption <<<\")\n",
    "    eval_tgt(tgt_encoder, src_classifier, tgt_data_loader_eval)\n"
   ]
  }
 ],
 "metadata": {
  "kernelspec": {
   "display_name": "Python 3",
   "language": "python",
   "name": "python3"
  },
  "language_info": {
   "codemirror_mode": {
    "name": "ipython",
    "version": 3
   },
   "file_extension": ".py",
   "mimetype": "text/x-python",
   "name": "python",
   "nbconvert_exporter": "python",
   "pygments_lexer": "ipython3",
   "version": "3.7.4"
  }
 },
 "nbformat": 4,
 "nbformat_minor": 4
}
